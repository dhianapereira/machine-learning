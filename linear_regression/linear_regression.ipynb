{
  "nbformat": 4,
  "nbformat_minor": 0,
  "metadata": {
    "colab": {
      "name": "linear-regression.ipynb",
      "provenance": [],
      "collapsed_sections": [],
      "include_colab_link": true
    },
    "kernelspec": {
      "name": "python3",
      "display_name": "Python 3"
    },
    "language_info": {
      "name": "python"
    }
  },
  "cells": [
    {
      "cell_type": "markdown",
      "metadata": {
        "id": "view-in-github",
        "colab_type": "text"
      },
      "source": [
        "<a href=\"https://colab.research.google.com/github/dhianaslv/machine-learning/blob/main/linear_regression/linear_regression.ipynb\" target=\"_parent\"><img src=\"https://colab.research.google.com/assets/colab-badge.svg\" alt=\"Open In Colab\"/></a>"
      ]
    },
    {
      "cell_type": "markdown",
      "metadata": {
        "id": "LwbKpLas3hHf"
      },
      "source": [
        "# Regressão Linear\n",
        "\n",
        " Y = Θ₀ + Θ₁ * X₁ \n"
      ]
    },
    {
      "cell_type": "markdown",
      "metadata": {
        "id": "EX3oZETBv_z6"
      },
      "source": [
        "### Conceito\n",
        "\n",
        "A regressão é utilizada para prever dados contínuos e possui duas variáveis.\n",
        " \n",
        "* **Variável dependente:** Objetivo final representado por Y.\n",
        "\n",
        "* **Variáveis independentes:** Dados utilizados para prever Y representado por X.\n",
        "\n",
        "#### Tipos de Regressão Linear\n",
        "\n",
        "* **Regressão Simples:** É quando **uma variável** independente é utilizada para estimar uma variável dependente.\n",
        "\n",
        "* **Regressão Múltipla:** É quando **mais de uma variável** independente é utilizada para estimar uma variável dependente."
      ]
    },
    {
      "cell_type": "markdown",
      "metadata": {
        "id": "Z6OgibCzwMRg"
      },
      "source": [
        "### Projeto\n",
        "\n",
        "No projeto a seguir construiremos um modelo de Regressão Linear dos casos de COVID-19 no estado de Alagoas."
      ]
    },
    {
      "cell_type": "markdown",
      "metadata": {
        "id": "X4n1hKCEjVYW"
      },
      "source": [
        "### Dados para o treinamento\n",
        "\n",
        "Os dados para a contrução do modelo foram retirados do site [Covid Saúde](https://covid.saude.gov.br/). Baixei o arquivo CSV e fiz uma seleção dos dados apenas do estado de Alagoas usando o [Text Editor](https://texteditor.co/).\n",
        "\n",
        "O modelo foi construido com os dados do **dia 25 de Fevereiro de 2020** até o **dia 25 de Fevereiro de 2021**. 80% foi utilizado para o treinamento do modelo e 20% para o teste."
      ]
    },
    {
      "cell_type": "markdown",
      "metadata": {
        "id": "alLGEDQqUTUd"
      },
      "source": [
        "### Mão na massa"
      ]
    },
    {
      "cell_type": "code",
      "metadata": {
        "id": "VX-qIYF03Odb"
      },
      "source": [
        "# Importação das bibliotecas necessárias \n",
        "\n",
        "import matplotlib.pyplot as plt\n",
        "import pandas as pd\n",
        "import numpy as np\n",
        "from sklearn import linear_model\n",
        "from sklearn.metrics import mean_squared_error, mean_absolute_error, r2_score\n"
      ],
      "execution_count": null,
      "outputs": []
    },
    {
      "cell_type": "code",
      "metadata": {
        "id": "iQQ7_tpk-uvq",
        "colab": {
          "base_uri": "https://localhost:8080/",
          "height": 204
        },
        "outputId": "9ae4a7ab-f0d4-4607-f07e-58431d163526"
      },
      "source": [
        "# Lendo o conjunto de dados\n",
        "database = pd.read_csv(\"https://raw.githubusercontent.com/dhianaslv/maching-learning/main/linear_regression/covid19-data.csv\")\n",
        "\n",
        "database.head(5)"
      ],
      "execution_count": null,
      "outputs": [
        {
          "output_type": "execute_result",
          "data": {
            "text/html": [
              "<div>\n",
              "<style scoped>\n",
              "    .dataframe tbody tr th:only-of-type {\n",
              "        vertical-align: middle;\n",
              "    }\n",
              "\n",
              "    .dataframe tbody tr th {\n",
              "        vertical-align: top;\n",
              "    }\n",
              "\n",
              "    .dataframe thead th {\n",
              "        text-align: right;\n",
              "    }\n",
              "</style>\n",
              "<table border=\"1\" class=\"dataframe\">\n",
              "  <thead>\n",
              "    <tr style=\"text-align: right;\">\n",
              "      <th></th>\n",
              "      <th>data</th>\n",
              "      <th>semanaEpi</th>\n",
              "      <th>populacaoTCU2019</th>\n",
              "      <th>casosAcumulado</th>\n",
              "      <th>casosNovos</th>\n",
              "      <th>obitosAcumulado</th>\n",
              "      <th>obitosNovos</th>\n",
              "    </tr>\n",
              "  </thead>\n",
              "  <tbody>\n",
              "    <tr>\n",
              "      <th>0</th>\n",
              "      <td>2020-02-25</td>\n",
              "      <td>9</td>\n",
              "      <td>3337357</td>\n",
              "      <td>0</td>\n",
              "      <td>0</td>\n",
              "      <td>0</td>\n",
              "      <td>0</td>\n",
              "    </tr>\n",
              "    <tr>\n",
              "      <th>1</th>\n",
              "      <td>2020-02-26</td>\n",
              "      <td>9</td>\n",
              "      <td>3337357</td>\n",
              "      <td>0</td>\n",
              "      <td>0</td>\n",
              "      <td>0</td>\n",
              "      <td>0</td>\n",
              "    </tr>\n",
              "    <tr>\n",
              "      <th>2</th>\n",
              "      <td>2020-02-27</td>\n",
              "      <td>9</td>\n",
              "      <td>3337357</td>\n",
              "      <td>0</td>\n",
              "      <td>0</td>\n",
              "      <td>0</td>\n",
              "      <td>0</td>\n",
              "    </tr>\n",
              "    <tr>\n",
              "      <th>3</th>\n",
              "      <td>2020-02-28</td>\n",
              "      <td>9</td>\n",
              "      <td>3337357</td>\n",
              "      <td>0</td>\n",
              "      <td>0</td>\n",
              "      <td>0</td>\n",
              "      <td>0</td>\n",
              "    </tr>\n",
              "    <tr>\n",
              "      <th>4</th>\n",
              "      <td>2020-02-29</td>\n",
              "      <td>9</td>\n",
              "      <td>3337357</td>\n",
              "      <td>0</td>\n",
              "      <td>0</td>\n",
              "      <td>0</td>\n",
              "      <td>0</td>\n",
              "    </tr>\n",
              "  </tbody>\n",
              "</table>\n",
              "</div>"
            ],
            "text/plain": [
              "         data  semanaEpi  ...  obitosAcumulado  obitosNovos\n",
              "0  2020-02-25          9  ...                0            0\n",
              "1  2020-02-26          9  ...                0            0\n",
              "2  2020-02-27          9  ...                0            0\n",
              "3  2020-02-28          9  ...                0            0\n",
              "4  2020-02-29          9  ...                0            0\n",
              "\n",
              "[5 rows x 7 columns]"
            ]
          },
          "metadata": {},
          "execution_count": 2
        }
      ]
    },
    {
      "cell_type": "code",
      "metadata": {
        "id": "zfc8Wucnc_9s",
        "colab": {
          "base_uri": "https://localhost:8080/",
          "height": 204
        },
        "outputId": "76cab76e-9204-43b1-9058-774c030a0bfb"
      },
      "source": [
        "# Seleção das características\n",
        " \n",
        "features = database[['casosAcumulado','casosNovos','obitosAcumulado','obitosNovos']]\n",
        "features.head(5)"
      ],
      "execution_count": null,
      "outputs": [
        {
          "output_type": "execute_result",
          "data": {
            "text/html": [
              "<div>\n",
              "<style scoped>\n",
              "    .dataframe tbody tr th:only-of-type {\n",
              "        vertical-align: middle;\n",
              "    }\n",
              "\n",
              "    .dataframe tbody tr th {\n",
              "        vertical-align: top;\n",
              "    }\n",
              "\n",
              "    .dataframe thead th {\n",
              "        text-align: right;\n",
              "    }\n",
              "</style>\n",
              "<table border=\"1\" class=\"dataframe\">\n",
              "  <thead>\n",
              "    <tr style=\"text-align: right;\">\n",
              "      <th></th>\n",
              "      <th>casosAcumulado</th>\n",
              "      <th>casosNovos</th>\n",
              "      <th>obitosAcumulado</th>\n",
              "      <th>obitosNovos</th>\n",
              "    </tr>\n",
              "  </thead>\n",
              "  <tbody>\n",
              "    <tr>\n",
              "      <th>0</th>\n",
              "      <td>0</td>\n",
              "      <td>0</td>\n",
              "      <td>0</td>\n",
              "      <td>0</td>\n",
              "    </tr>\n",
              "    <tr>\n",
              "      <th>1</th>\n",
              "      <td>0</td>\n",
              "      <td>0</td>\n",
              "      <td>0</td>\n",
              "      <td>0</td>\n",
              "    </tr>\n",
              "    <tr>\n",
              "      <th>2</th>\n",
              "      <td>0</td>\n",
              "      <td>0</td>\n",
              "      <td>0</td>\n",
              "      <td>0</td>\n",
              "    </tr>\n",
              "    <tr>\n",
              "      <th>3</th>\n",
              "      <td>0</td>\n",
              "      <td>0</td>\n",
              "      <td>0</td>\n",
              "      <td>0</td>\n",
              "    </tr>\n",
              "    <tr>\n",
              "      <th>4</th>\n",
              "      <td>0</td>\n",
              "      <td>0</td>\n",
              "      <td>0</td>\n",
              "      <td>0</td>\n",
              "    </tr>\n",
              "  </tbody>\n",
              "</table>\n",
              "</div>"
            ],
            "text/plain": [
              "   casosAcumulado  casosNovos  obitosAcumulado  obitosNovos\n",
              "0               0           0                0            0\n",
              "1               0           0                0            0\n",
              "2               0           0                0            0\n",
              "3               0           0                0            0\n",
              "4               0           0                0            0"
            ]
          },
          "metadata": {},
          "execution_count": 3
        }
      ]
    },
    {
      "cell_type": "code",
      "metadata": {
        "id": "c-VptOECg6hK"
      },
      "source": [
        "# Separação dos dados de treinamento e os de teste\n",
        "\n",
        "msk = np.random.rand(len(database)) < 0.8\n",
        "train = features[msk]\n",
        "test = features[~msk]"
      ],
      "execution_count": null,
      "outputs": []
    },
    {
      "cell_type": "code",
      "metadata": {
        "id": "pAWg3APlhRuS"
      },
      "source": [
        "# Construção do modelo\n",
        "\n",
        "model = linear_model.LinearRegression()\n",
        "\n",
        "# Variável independente\n",
        "train_x = np.asanyarray(train[['casosAcumulado']]) \n",
        "\n",
        "#Variável dependente\n",
        "train_y = np.asanyarray(train[['obitosAcumulado']])  "
      ],
      "execution_count": null,
      "outputs": []
    },
    {
      "cell_type": "code",
      "metadata": {
        "id": "_6sV_hVeo34P",
        "colab": {
          "base_uri": "https://localhost:8080/"
        },
        "outputId": "1a131669-8e74-49ac-dd6e-69b7b8a6cc33"
      },
      "source": [
        "#Treinamento\n",
        "\n",
        "model.fit(train_x, train_y) \n",
        "\n",
        "# Coeficientes da equação linear\n",
        "print ('Inclinação da linha de ajuste: ', model.coef_)\n",
        "print ('Ponto de intersecção: ', model.intercept_)"
      ],
      "execution_count": null,
      "outputs": [
        {
          "output_type": "stream",
          "name": "stdout",
          "text": [
            "Inclinação da linha de ajuste:  [[0.02297951]]\n",
            "Ponto de intersecção:  [105.0535054]\n"
          ]
        }
      ]
    },
    {
      "cell_type": "markdown",
      "metadata": {
        "id": "6FOZlkLiuc5s"
      },
      "source": [
        "#### Linha de ajuste\n",
        "É a linha que dará a melhor estimativa para os dados referentes a pontos desconhecidos."
      ]
    },
    {
      "cell_type": "code",
      "metadata": {
        "id": "VLWHqWdjlrN-",
        "colab": {
          "base_uri": "https://localhost:8080/",
          "height": 312
        },
        "outputId": "0775bf5c-34a8-4a35-9bb9-d391fe1bada9"
      },
      "source": [
        "# Plot do gráfico de treinamento\n",
        "\n",
        "plt.scatter(train.casosAcumulado, train.obitosAcumulado,  color='green')\n",
        "plt.plot(train_x, model.intercept_[0] + model.coef_[0][0]*train_x, 'red')\n",
        "plt.xlabel(\"Casos\")\n",
        "plt.ylabel(\"Óbitos\")\n",
        "plt.title(\"Gráfico do treinamento\")"
      ],
      "execution_count": null,
      "outputs": [
        {
          "output_type": "execute_result",
          "data": {
            "text/plain": [
              "Text(0.5, 1.0, 'Gráfico do treinamento')"
            ]
          },
          "metadata": {},
          "execution_count": 7
        },
        {
          "output_type": "display_data",
          "data": {
            "image/png": "[encoded data removed]",
            "text/plain": [
              "<Figure size 432x288 with 1 Axes>"
            ]
          },
          "metadata": {
            "needs_background": "light"
          }
        }
      ]
    },
    {
      "cell_type": "code",
      "metadata": {
        "id": "Crb6E_Ayl_fg"
      },
      "source": [
        "# Testes\n",
        "\n",
        "test_x = np.asanyarray(test[['casosAcumulado']])\n",
        "test_y = np.asanyarray(test[['obitosAcumulado']])\n",
        "\n",
        "# Predição\n",
        "\n",
        "prediction = model.predict(test_x)"
      ],
      "execution_count": null,
      "outputs": []
    },
    {
      "cell_type": "code",
      "metadata": {
        "id": "6gH_WgvpstYU",
        "colab": {
          "base_uri": "https://localhost:8080/",
          "height": 312
        },
        "outputId": "57a898cd-8708-430c-b905-58249ebba091"
      },
      "source": [
        "# Plot do gráfico de testes\n",
        "\n",
        "plt.scatter(test.casosAcumulado, test.obitosAcumulado,  color='green')\n",
        "plt.plot(test_x, model.intercept_[0] + model.coef_[0][0]*test_x, 'red')\n",
        "plt.xlabel(\"Casos\")\n",
        "plt.ylabel(\"Óbitos\")\n",
        "plt.title(\"Gráfico do teste\")"
      ],
      "execution_count": null,
      "outputs": [
        {
          "output_type": "execute_result",
          "data": {
            "text/plain": [
              "Text(0.5, 1.0, 'Gráfico do teste')"
            ]
          },
          "metadata": {},
          "execution_count": 9
        },
        {
          "output_type": "display_data",
          "data": {
            "image/png": "[encoded data removed]",
            "text/plain": [
              "<Figure size 432x288 with 1 Axes>"
            ]
          },
          "metadata": {
            "needs_background": "light"
          }
        }
      ]
    },
    {
      "cell_type": "code",
      "metadata": {
        "colab": {
          "base_uri": "https://localhost:8080/"
        },
        "id": "Nym1J8ggtGAn",
        "outputId": "65840248-e70c-4477-e86b-2a707f811763"
      },
      "source": [
        "# Precisão\n",
        "\n",
        "print(\"Erro Médio Absoluto: %.2f\" % mean_absolute_error(test_y, prediction))\n",
        "print(\"Erro Médio Quadrático: %.2f\" % mean_squared_error(test_y, prediction))\n",
        "print(\"Desempenho do modelo: %.2f\" % r2_score(test_y , prediction) )"
      ],
      "execution_count": null,
      "outputs": [
        {
          "output_type": "stream",
          "name": "stdout",
          "text": [
            "Erro Médio Absoluto: 72.12\n",
            "Erro Médio Quadrático: 6953.43\n",
            "Desempenho do modelo: 0.99\n"
          ]
        }
      ]
    },
    {
      "cell_type": "markdown",
      "metadata": {
        "id": "rDpILVHAutRX"
      },
      "source": [
        "* **Erro Médio Absoluto:** É a média do valor absoluto dos erros.\n",
        "\n",
        "* **Erro Médio Quadrático:** É a média da diferença quadrática entre cada ponto previsto e o ponto real.\n",
        "\n",
        "* **R2 score:** É uma métrica popular para medir o desempenho do modelo. Ela representa o quão próximos os pontos de dados estão da linha de regressão ajustada. Quanto mais alto o seu valor, melhor o modelo se ajusta aos seus dados. A melhor pontuação possível é 1,0 e pode ser negativa."
      ]
    }
  ]
}