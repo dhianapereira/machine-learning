{
  "cells": [
    {
      "cell_type": "markdown",
      "metadata": {
        "colab_type": "text",
        "id": "view-in-github"
      },
      "source": [
        "<a href=\"https://colab.research.google.com/github/dhianaslv/marching-learning/blob/main/linear_regression.ipynb\" target=\"_parent\"><img src=\"https://colab.research.google.com/assets/colab-badge.svg\" alt=\"Open In Colab\"/></a>"
      ]
    },
    {
      "cell_type": "markdown",
      "metadata": {
        "id": "LwbKpLas3hHf"
      },
      "source": [
        "# Regressão Linear\n",
        "\n",
        " Y = Θ₀ + Θ₁ * X₁ \n"
      ]
    },
    {
      "cell_type": "markdown",
      "metadata": {
        "id": "EX3oZETBv_z6"
      },
      "source": [
        "### Conceito\n",
        "\n",
        "A regressão é utilizada para prever dados contínuos e possui duas variáveis.\n",
        " \n",
        "* **Variável dependente:** Objetivo final representado por Y.\n",
        "\n",
        "* **Variáveis independentes:** Dados utilizados para prever Y representado por X.\n",
        "\n",
        "#### Tipos de Regressão Linear\n",
        "\n",
        "* **Regressão Simples:** É quando **uma variável** independente é utilizada para estimar uma variável dependente.\n",
        "\n",
        "* **Regressão Múltipla:** É quando **mais de uma variável** independente é utilizada para estimar uma variável dependente."
      ]
    },
    {
      "cell_type": "markdown",
      "metadata": {
        "id": "Z6OgibCzwMRg"
      },
      "source": [
        "### Projeto\n",
        "\n",
        "No projeto a seguir construiremos um modelo de Regressão Linear dos casos de COVID-19 no estado de Alagoas."
      ]
    },
    {
      "cell_type": "markdown",
      "metadata": {
        "id": "X4n1hKCEjVYW"
      },
      "source": [
        "### Dados para o treinamento\n",
        "\n",
        "Os dados para a contrução do modelo foram retirados do site [Covid Saúde](https://covid.saude.gov.br/). Baixei o arquivo CSV e fiz uma seleção dos dados apenas do estado de Alagoas usando o [Text Editor](https://texteditor.co/).\n",
        "\n",
        "O modelo foi construido com os dados do **dia 25 de Fevereiro de 2020** até o **dia 25 de Fevereiro de 2021**. 80% foi utilizado para o treinamento do modelo e 20% para o teste."
      ]
    },
    {
      "cell_type": "markdown",
      "metadata": {
        "id": "alLGEDQqUTUd"
      },
      "source": [
        "### Mão na massa"
      ]
    },
    {
      "cell_type": "code",
      "execution_count": null,
      "metadata": {
        "id": "VX-qIYF03Odb"
      },
      "outputs": [],
      "source": [
        "# Importação das bibliotecas necessárias \n",
        "\n",
        "import matplotlib.pyplot as plt\n",
        "import pandas as pd\n",
        "import numpy as np\n",
        "from sklearn import linear_model\n",
        "from sklearn.metrics import mean_squared_error, mean_absolute_error, r2_score\n"
      ]
    },
    {
      "cell_type": "code",
      "execution_count": null,
      "metadata": {
        "id": "iQQ7_tpk-uvq"
      },
      "outputs": [],
      "source": [
        "# Lendo o conjunto de dados\n",
        "database = pd.read_csv(\"https://github.com/dhianaslv/marching-learning/blob/main/linear_regression/covid19-data.csv\")\n",
        "\n",
        "database.head(5)"
      ]
    },
    {
      "cell_type": "code",
      "execution_count": null,
      "metadata": {
        "id": "zfc8Wucnc_9s"
      },
      "outputs": [],
      "source": [
        "# Seleção das características\n",
        " \n",
        "features = database[['casosAcumulado','casosNovos','obitosAcumulado','obitosNovos']]\n",
        "features.head(5)"
      ]
    },
    {
      "cell_type": "code",
      "execution_count": null,
      "metadata": {
        "id": "c-VptOECg6hK"
      },
      "outputs": [],
      "source": [
        "# Separação dos dados de treinamento e os de teste\n",
        "\n",
        "msk = np.random.rand(len(database)) < 0.8\n",
        "train = features[msk]\n",
        "test = features[~msk]"
      ]
    },
    {
      "cell_type": "code",
      "execution_count": null,
      "metadata": {
        "id": "pAWg3APlhRuS"
      },
      "outputs": [],
      "source": [
        "# Construção do modelo\n",
        "\n",
        "model = linear_model.LinearRegression()\n",
        "\n",
        "# Variável independente\n",
        "train_x = np.asanyarray(train[['casosAcumulado']]) \n",
        "\n",
        "#Variável dependente\n",
        "train_y = np.asanyarray(train[['obitosAcumulado']])  "
      ]
    },
    {
      "cell_type": "code",
      "execution_count": null,
      "metadata": {
        "colab": {
          "base_uri": "https://localhost:8080/"
        },
        "id": "_6sV_hVeo34P",
        "outputId": "65ee611f-82b3-46a0-c483-f142f6f73d55"
      },
      "outputs": [
        {
          "name": "stdout",
          "output_type": "stream",
          "text": [
            "Inclinação da linha de ajuste:  [[0.02297087]]\n",
            "Ponto de intersecção:  [103.68850373]\n"
          ]
        }
      ],
      "source": [
        "#Treinamento\n",
        "\n",
        "model.fit(train_x, train_y) \n",
        "\n",
        "# Coeficientes da equação linear\n",
        "print ('Inclinação da linha de ajuste: ', model.coef_)\n",
        "print ('Ponto de intersecção: ', model.intercept_)"
      ]
    },
    {
      "cell_type": "markdown",
      "metadata": {
        "id": "6FOZlkLiuc5s"
      },
      "source": [
        "#### Linha de ajuste\n",
        "É a linha que dará a melhor estimativa para os dados referentes a pontos desconhecidos."
      ]
    },
    {
      "cell_type": "code",
      "execution_count": null,
      "metadata": {
        "id": "VLWHqWdjlrN-"
      },
      "outputs": [],
      "source": [
        "# Plot do gráfico de treinamento\n",
        "\n",
        "plt.scatter(train.casosAcumulado, train.obitosAcumulado,  color='green')\n",
        "plt.plot(train_x, model.intercept_[0] + model.coef_[0][0]*train_x, 'red')\n",
        "plt.xlabel(\"Casos\")\n",
        "plt.ylabel(\"Óbitos\")\n",
        "plt.title(\"Gráfico do treinamento\")"
      ]
    },
    {
      "cell_type": "code",
      "execution_count": null,
      "metadata": {
        "id": "Crb6E_Ayl_fg"
      },
      "outputs": [],
      "source": [
        "# Testes\n",
        "\n",
        "test_x = np.asanyarray(test[['casosAcumulado']])\n",
        "test_y = np.asanyarray(test[['obitosAcumulado']])\n",
        "\n",
        "# Predição\n",
        "\n",
        "prediction = model.predict(test_x)"
      ]
    },
    {
      "cell_type": "code",
      "execution_count": null,
      "metadata": {
        "id": "6gH_WgvpstYU"
      },
      "outputs": [],
      "source": [
        "# Plot do gráfico de testes\n",
        "\n",
        "plt.scatter(test.casosAcumulado, test.obitosAcumulado,  color='green')\n",
        "plt.plot(test_x, model.intercept_[0] + model.coef_[0][0]*test_x, 'red')\n",
        "plt.xlabel(\"Casos\")\n",
        "plt.ylabel(\"Óbitos\")\n",
        "plt.title(\"Gráfico do teste\")"
      ]
    },
    {
      "cell_type": "code",
      "execution_count": null,
      "metadata": {
        "colab": {
          "base_uri": "https://localhost:8080/"
        },
        "id": "Nym1J8ggtGAn",
        "outputId": "e2585c75-642e-4b32-ee5c-b4158ad69cc3"
      },
      "outputs": [
        {
          "name": "stdout",
          "output_type": "stream",
          "text": [
            "Erro Médio Absoluto: 59.42\n",
            "Erro Médio Quadrático: 5104.61\n",
            "Desempenho do modelo: 0.99\n"
          ]
        }
      ],
      "source": [
        "# Precisão\n",
        "\n",
        "print(\"Erro Médio Absoluto: %.2f\" % mean_absolute_error(test_y, prediction))\n",
        "print(\"Erro Médio Quadrático: %.2f\" % mean_squared_error(test_y, prediction))\n",
        "print(\"Desempenho do modelo: %.2f\" % r2_score(test_y , prediction) )"
      ]
    },
    {
      "cell_type": "markdown",
      "metadata": {
        "id": "rDpILVHAutRX"
      },
      "source": [
        "* **Erro Médio Absoluto:** É a média do valor absoluto dos erros.\n",
        "\n",
        "* **Erro Médio Quadrático:** É a média da diferença quadrática entre cada ponto previsto e o ponto real.\n",
        "\n",
        "* **R2 score:** É uma métrica popular para medir o desempenho do modelo. Ela representa o quão próximos os pontos de dados estão da linha de regressão ajustada. Quanto mais alto o seu valor, melhor o modelo se ajusta aos seus dados. A melhor pontuação possível é 1,0 e pode ser negativa."
      ]
    }
  ],
  "metadata": {
    "colab": {
      "authorship_tag": "ABX9TyOPbRlmpcfvAGEYI0cxa3Bu",
      "collapsed_sections": [],
      "include_colab_link": true,
      "name": "linear-regression.ipynb",
      "provenance": []
    },
    "kernelspec": {
      "display_name": "Python 3",
      "name": "python3"
    },
    "language_info": {
      "name": "python"
    }
  },
  "nbformat": 4,
  "nbformat_minor": 0
}
