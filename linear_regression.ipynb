{
  "nbformat": 4,
  "nbformat_minor": 0,
  "metadata": {
    "colab": {
      "name": "linear-regression.ipynb",
      "provenance": [],
      "collapsed_sections": [],
      "authorship_tag": "ABX9TyOPbRlmpcfvAGEYI0cxa3Bu",
      "include_colab_link": true
    },
    "kernelspec": {
      "name": "python3",
      "display_name": "Python 3"
    },
    "language_info": {
      "name": "python"
    }
  },
  "cells": [
    {
      "cell_type": "markdown",
      "metadata": {
        "id": "view-in-github",
        "colab_type": "text"
      },
      "source": [
        "<a href=\"https://colab.research.google.com/github/dhianaslv/marching-learning/blob/main/linear_regression.ipynb\" target=\"_parent\"><img src=\"https://colab.research.google.com/assets/colab-badge.svg\" alt=\"Open In Colab\"/></a>"
      ]
    },
    {
      "cell_type": "markdown",
      "metadata": {
        "id": "LwbKpLas3hHf"
      },
      "source": [
        "# Regressão Linear\n",
        "\n",
        " Y = Θ₀ + Θ₁ * X₁ \n"
      ]
    },
    {
      "cell_type": "markdown",
      "metadata": {
        "id": "EX3oZETBv_z6"
      },
      "source": [
        "### Conceito\n",
        "\n",
        "A regressão é utilizada para prever dados contínuos e possui duas variáveis.\n",
        " \n",
        "* **Variável dependente:** Objetivo final representado por Y.\n",
        "\n",
        "* **Variáveis independentes:** Dados utilizados para prever Y representado por X.\n",
        "\n",
        "#### Tipos de Regressão Linear\n",
        "\n",
        "* **Regressão Simples:** É quando **uma variável** independente é utilizada para estimar uma variável dependente.\n",
        "\n",
        "* **Regressão Múltipla:** É quando **mais de uma variável** independente é utilizada para estimar uma variável dependente."
      ]
    },
    {
      "cell_type": "markdown",
      "metadata": {
        "id": "Z6OgibCzwMRg"
      },
      "source": [
        "### Projeto\n",
        "\n",
        "No projeto a seguir construiremos um modelo de Regressão Linear dos casos de COVID-19 no estado de Alagoas."
      ]
    },
    {
      "cell_type": "markdown",
      "metadata": {
        "id": "X4n1hKCEjVYW"
      },
      "source": [
        "### Dados para o treinamento\n",
        "\n",
        "Os dados para a contrução do modelo foram retirados do site [Covid Saúde](https://covid.saude.gov.br/). Baixei o arquivo CSV e fiz uma seleção dos dados apenas do estado de Alagoas usando o [Text Editor](https://texteditor.co/).\n",
        "\n",
        "O modelo foi construido com os dados do **dia 25 de Fevereiro de 2020** até o **dia 25 de Fevereiro de 2021**. 80% foi utilizado para o treinamento do modelo e 20% para o teste."
      ]
    },
    {
      "cell_type": "markdown",
      "metadata": {
        "id": "alLGEDQqUTUd"
      },
      "source": [
        "### Mão na massa"
      ]
    },
    {
      "cell_type": "code",
      "metadata": {
        "id": "VX-qIYF03Odb"
      },
      "source": [
        "# Importação das bibliotecas necessárias \n",
        "\n",
        "import matplotlib.pyplot as plt\n",
        "import pandas as pd\n",
        "import numpy as np\n",
        "from sklearn import linear_model\n",
        "from sklearn.metrics import mean_squared_error, mean_absolute_error, r2_score\n"
      ],
      "execution_count": null,
      "outputs": []
    },
    {
      "cell_type": "code",
      "metadata": {
        "id": "iQQ7_tpk-uvq"
      },
      "source": [
        "# Lendo o conjunto de dados\n",
        "database = pd.read_csv(\"covid19-data.csv\")\n",
        "\n",
        "database.head(5)"
      ],
      "execution_count": null,
      "outputs": []
    },
    {
      "cell_type": "code",
      "metadata": {
        "id": "zfc8Wucnc_9s"
      },
      "source": [
        "# Seleção das características\n",
        " \n",
        "features = database[['casosAcumulado','casosNovos','obitosAcumulado','obitosNovos']]\n",
        "features.head(5)"
      ],
      "execution_count": null,
      "outputs": []
    },
    {
      "cell_type": "code",
      "metadata": {
        "id": "c-VptOECg6hK"
      },
      "source": [
        "# Separação dos dados de treinamento e os de teste\n",
        "\n",
        "msk = np.random.rand(len(database)) < 0.8\n",
        "train = features[msk]\n",
        "test = features[~msk]"
      ],
      "execution_count": null,
      "outputs": []
    },
    {
      "cell_type": "code",
      "metadata": {
        "id": "pAWg3APlhRuS"
      },
      "source": [
        "# Construção do modelo\n",
        "\n",
        "model = linear_model.LinearRegression()\n",
        "\n",
        "# Variável independente\n",
        "train_x = np.asanyarray(train[['casosAcumulado']]) \n",
        "\n",
        "#Variável dependente\n",
        "train_y = np.asanyarray(train[['obitosAcumulado']])  "
      ],
      "execution_count": null,
      "outputs": []
    },
    {
      "cell_type": "code",
      "metadata": {
        "id": "_6sV_hVeo34P",
        "colab": {
          "base_uri": "https://localhost:8080/"
        },
        "outputId": "65ee611f-82b3-46a0-c483-f142f6f73d55"
      },
      "source": [
        "#Treinamento\n",
        "\n",
        "model.fit(train_x, train_y) \n",
        "\n",
        "# Coeficientes da equação linear\n",
        "print ('Inclinação da linha de ajuste: ', model.coef_)\n",
        "print ('Ponto de intersecção: ', model.intercept_)"
      ],
      "execution_count": null,
      "outputs": [
        {
          "output_type": "stream",
          "name": "stdout",
          "text": [
            "Inclinação da linha de ajuste:  [[0.02297087]]\n",
            "Ponto de intersecção:  [103.68850373]\n"
          ]
        }
      ]
    },
    {
      "cell_type": "markdown",
      "metadata": {
        "id": "6FOZlkLiuc5s"
      },
      "source": [
        "#### Linha de ajuste\n",
        "É a linha que dará a melhor estimativa para os dados referentes a pontos desconhecidos."
      ]
    },
    {
      "cell_type": "code",
      "metadata": {
        "id": "VLWHqWdjlrN-"
      },
      "source": [
        "# Plot do gráfico de treinamento\n",
        "\n",
        "plt.scatter(train.casosAcumulado, train.obitosAcumulado,  color='green')\n",
        "plt.plot(train_x, model.intercept_[0] + model.coef_[0][0]*train_x, 'red')\n",
        "plt.xlabel(\"Casos\")\n",
        "plt.ylabel(\"Óbitos\")\n",
        "plt.title(\"Gráfico do treinamento\")"
      ],
      "execution_count": null,
      "outputs": []
    },
    {
      "cell_type": "code",
      "metadata": {
        "id": "Crb6E_Ayl_fg"
      },
      "source": [
        "# Testes\n",
        "\n",
        "test_x = np.asanyarray(test[['casosAcumulado']])\n",
        "test_y = np.asanyarray(test[['obitosAcumulado']])\n",
        "\n",
        "# Predição\n",
        "\n",
        "prediction = model.predict(test_x)"
      ],
      "execution_count": null,
      "outputs": []
    },
    {
      "cell_type": "code",
      "metadata": {
        "id": "6gH_WgvpstYU"
      },
      "source": [
        "# Plot do gráfico de testes\n",
        "\n",
        "plt.scatter(test.casosAcumulado, test.obitosAcumulado,  color='green')\n",
        "plt.plot(test_x, model.intercept_[0] + model.coef_[0][0]*test_x, 'red')\n",
        "plt.xlabel(\"Casos\")\n",
        "plt.ylabel(\"Óbitos\")\n",
        "plt.title(\"Gráfico do teste\")"
      ],
      "execution_count": null,
      "outputs": []
    },
    {
      "cell_type": "code",
      "metadata": {
        "colab": {
          "base_uri": "https://localhost:8080/"
        },
        "id": "Nym1J8ggtGAn",
        "outputId": "e2585c75-642e-4b32-ee5c-b4158ad69cc3"
      },
      "source": [
        "# Precisão\n",
        "\n",
        "print(\"Erro Médio Absoluto: %.2f\" % mean_absolute_error(test_y, prediction))\n",
        "print(\"Erro Médio Quadrático: %.2f\" % mean_squared_error(test_y, prediction))\n",
        "print(\"Desempenho do modelo: %.2f\" % r2_score(test_y , prediction) )"
      ],
      "execution_count": null,
      "outputs": [
        {
          "output_type": "stream",
          "name": "stdout",
          "text": [
            "Erro Médio Absoluto: 59.42\n",
            "Erro Médio Quadrático: 5104.61\n",
            "Desempenho do modelo: 0.99\n"
          ]
        }
      ]
    },
    {
      "cell_type": "markdown",
      "metadata": {
        "id": "rDpILVHAutRX"
      },
      "source": [
        "* **Erro Médio Absoluto:** É a média do valor absoluto dos erros.\n",
        "\n",
        "* **Erro Médio Quadrático:** É a média da diferença quadrática entre cada ponto previsto e o ponto real.\n",
        "\n",
        "* **R2 score:** É uma métrica popular para medir o desempenho do modelo. Ela representa o quão próximos os pontos de dados estão da linha de regressão ajustada. Quanto mais alto o seu valor, melhor o modelo se ajusta aos seus dados. A melhor pontuação possível é 1,0 e pode ser negativa."
      ]
    }
  ]
}